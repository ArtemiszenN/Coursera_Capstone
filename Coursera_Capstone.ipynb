{
  "nbformat": 4,
  "nbformat_minor": 0,
  "metadata": {
    "colab": {
      "name": "Coursera_Capstone.ipynb",
      "provenance": []
    },
    "kernelspec": {
      "name": "python3",
      "display_name": "Python 3"
    }
  },
  "cells": [
    {
      "cell_type": "markdown",
      "metadata": {
        "id": "wCyDppzS9H3v",
        "colab_type": "text"
      },
      "source": [
        "This is primarily used for the capstone project"
      ]
    },
    {
      "cell_type": "markdown",
      "metadata": {
        "id": "rNk2TBZ47OXO",
        "colab_type": "text"
      },
      "source": [
        "Import numpy and pandas"
      ]
    },
    {
      "cell_type": "code",
      "metadata": {
        "id": "pXyVsaNi7J65",
        "colab_type": "code",
        "colab": {}
      },
      "source": [
        "import numpy as np\n",
        "import pandas as pd"
      ],
      "execution_count": 0,
      "outputs": []
    },
    {
      "cell_type": "markdown",
      "metadata": {
        "id": "fTQwaoFA7Nzr",
        "colab_type": "text"
      },
      "source": [
        "Print hello world statement"
      ]
    },
    {
      "cell_type": "code",
      "metadata": {
        "id": "SL_15m7C7W7R",
        "colab_type": "code",
        "colab": {
          "base_uri": "https://localhost:8080/",
          "height": 35
        },
        "outputId": "68debb26-9275-43a1-fe04-42f84a6ce4a0"
      },
      "source": [
        "print(\"Hello Capstone Project Course!\")"
      ],
      "execution_count": 2,
      "outputs": [
        {
          "output_type": "stream",
          "text": [
            "Hello Capstone Project Course!\n"
          ],
          "name": "stdout"
        }
      ]
    },
    {
      "cell_type": "code",
      "metadata": {
        "id": "TPRxchph7euv",
        "colab_type": "code",
        "colab": {}
      },
      "source": [
        ""
      ],
      "execution_count": 0,
      "outputs": []
    }
  ]
}
