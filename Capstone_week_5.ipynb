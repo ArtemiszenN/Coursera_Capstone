{
 "cells": [
  {
   "cell_type": "markdown",
   "metadata": {
    "colab_type": "text",
    "id": "o51hSDPfFBEp"
   },
   "source": [
    "These are the imports we'll be needing for this project"
   ]
  },
  {
   "cell_type": "code",
   "execution_count": 0,
   "metadata": {
    "colab": {},
    "colab_type": "code",
    "id": "dFIoPxJZe5vp"
   },
   "outputs": [],
   "source": [
    "#import statements\n",
    "import pandas as pd\n",
    "import numpy as np\n",
    "from sklearn.cluster import KMeans\n",
    "from bs4 import BeautifulSoup as bsoup\n",
    "import folium\n",
    "from geopy.geocoders import Nominatim\n",
    "import requests\n",
    "import matplotlib.pyplot as plt\n",
    "from sklearn.cluster import DBSCAN\n",
    "from sklearn import metrics\n",
    "from sklearn.preprocessing import StandardScaler\n",
    "import matplotlib.cm as cmx\n",
    "import matplotlib.colors as colors"
   ]
  },
  {
   "cell_type": "markdown",
   "metadata": {
    "colab_type": "text",
    "id": "-BO3QkEHFHKI"
   },
   "source": [
    "These login details will not be available, limit can be changed to 100 without much impact"
   ]
  },
  {
   "cell_type": "code",
   "execution_count": 0,
   "metadata": {
    "colab": {},
    "colab_type": "code",
    "id": "dTvRqB0Ke7Jg"
   },
   "outputs": [],
   "source": [
    "CLIENT_ID = ''\n",
    "CLIENT_SECRET = ''\n",
    "VERSION = ''\n",
    "ACCESS_TOKEN = ''\n",
    "LIMIT = 10000"
   ]
  },
  {
   "cell_type": "markdown",
   "metadata": {
    "colab_type": "text",
    "id": "2Tiw_p14L0R7"
   },
   "source": [
    "This is where we get the request for all Chinese restaurants within 50km of the centroid of Singapore"
   ]
  },
  {
   "cell_type": "code",
   "execution_count": 3,
   "metadata": {
    "colab": {
     "base_uri": "https://localhost:8080/",
     "height": 35
    },
    "colab_type": "code",
    "id": "WdiBSmiXlDSO",
    "outputId": "750e355c-53f3-4c0c-b1ed-e69e7692d7ce"
   },
   "outputs": [
    {
     "name": "stdout",
     "output_type": "stream",
     "text": [
      "1.3521 103.8198\n"
     ]
    }
   ],
   "source": [
    "latitude = 1.3521\n",
    "longitude = 103.8198\n",
    "print(latitude, longitude)"
   ]
  },
  {
   "cell_type": "code",
   "execution_count": 4,
   "metadata": {
    "colab": {
     "base_uri": "https://localhost:8080/",
     "height": 35
    },
    "colab_type": "code",
    "id": "9dUWssVclg4z",
    "outputId": "467f37c2-b732-492d-c497-652e96350e38"
   },
   "outputs": [
    {
     "name": "stdout",
     "output_type": "stream",
     "text": [
      "Chinese Restaurant .... OK!\n"
     ]
    }
   ],
   "source": [
    "search_query = 'Chinese Restaurant'\n",
    "radius = 50000\n",
    "print(search_query + ' .... OK!')"
   ]
  },
  {
   "cell_type": "code",
   "execution_count": 5,
   "metadata": {
    "colab": {
     "base_uri": "https://localhost:8080/",
     "height": 35
    },
    "colab_type": "code",
    "id": "Lyg4xTGEmXnn",
    "outputId": "4bc5ca05-06d2-4e9e-9810-fa4f792488fd"
   },
   "outputs": [
    {
     "data": {
      "text/plain": [
       "'https://api.foursquare.com/v2/venues/search?client_id=TBX20G2X4ACQ55MQKPXQRQWTZAODLUFP33IIQJKFG4NBUYYV&client_secret=HIOAP5DW3N3EH0SBXEYLZJ10E3EVNIHGPMZMWVHTPIDGZTBH&ll=1.3521,103.8198&v=20180605&query=Chinese Restaurant&radius=50000&limit=10000'"
      ]
     },
     "execution_count": 5,
     "metadata": {
      "tags": []
     },
     "output_type": "execute_result"
    }
   ],
   "source": [
    "url = 'https://api.foursquare.com/v2/venues/search?client_id={}&client_secret={}&ll={},{}&v={}&query={}&radius={}&limit={}'.format(CLIENT_ID, CLIENT_SECRET, latitude, longitude, VERSION, search_query, radius, LIMIT)\n",
    "url"
   ]
  },
  {
   "cell_type": "code",
   "execution_count": 0,
   "metadata": {
    "colab": {},
    "colab_type": "code",
    "id": "_jRd_r2kmbUY"
   },
   "outputs": [],
   "source": [
    "results = requests.get(url).json()"
   ]
  },
  {
   "cell_type": "markdown",
   "metadata": {
    "colab_type": "text",
    "id": "BiPP86OTL83i"
   },
   "source": [
    "We need to clean the data and remove all cases where the country isn't Singapore, and in the one case where a school orchestra place is listed as a restaurant"
   ]
  },
  {
   "cell_type": "code",
   "execution_count": 7,
   "metadata": {
    "colab": {
     "base_uri": "https://localhost:8080/",
     "height": 556
    },
    "colab_type": "code",
    "id": "XEGKuNkHmilR",
    "outputId": "a0e945fe-d092-49b2-96b1-c3e5520ffde4"
   },
   "outputs": [
    {
     "data": {
      "text/html": [
       "<div>\n",
       "<style scoped>\n",
       "    .dataframe tbody tr th:only-of-type {\n",
       "        vertical-align: middle;\n",
       "    }\n",
       "\n",
       "    .dataframe tbody tr th {\n",
       "        vertical-align: top;\n",
       "    }\n",
       "\n",
       "    .dataframe thead th {\n",
       "        text-align: right;\n",
       "    }\n",
       "</style>\n",
       "<table border=\"1\" class=\"dataframe\">\n",
       "  <thead>\n",
       "    <tr style=\"text-align: right;\">\n",
       "      <th></th>\n",
       "      <th>id</th>\n",
       "      <th>name</th>\n",
       "      <th>categories</th>\n",
       "      <th>referralId</th>\n",
       "      <th>hasPerk</th>\n",
       "      <th>location.address</th>\n",
       "      <th>location.crossStreet</th>\n",
       "      <th>location.lat</th>\n",
       "      <th>location.lng</th>\n",
       "      <th>location.labeledLatLngs</th>\n",
       "      <th>location.distance</th>\n",
       "      <th>location.cc</th>\n",
       "      <th>location.city</th>\n",
       "      <th>location.country</th>\n",
       "      <th>location.formattedAddress</th>\n",
       "      <th>location.postalCode</th>\n",
       "      <th>location.neighborhood</th>\n",
       "      <th>location.state</th>\n",
       "      <th>venuePage.id</th>\n",
       "    </tr>\n",
       "  </thead>\n",
       "  <tbody>\n",
       "    <tr>\n",
       "      <th>0</th>\n",
       "      <td>4d1eb3ed16cfb60c807e4b61</td>\n",
       "      <td>The Chinese Restaurant</td>\n",
       "      <td>[{'id': '4bf58dd8d48988d145941735', 'name': 'C...</td>\n",
       "      <td>v-1589560834</td>\n",
       "      <td>False</td>\n",
       "      <td>Raffles Town Club</td>\n",
       "      <td>1 Plymouth Avenue</td>\n",
       "      <td>1.321757</td>\n",
       "      <td>103.825033</td>\n",
       "      <td>[{'label': 'display', 'lat': 1.321757186367034...</td>\n",
       "      <td>3427</td>\n",
       "      <td>SG</td>\n",
       "      <td>Singapore</td>\n",
       "      <td>Singapore</td>\n",
       "      <td>[Raffles Town Club (1 Plymouth Avenue), Singap...</td>\n",
       "      <td>NaN</td>\n",
       "      <td>NaN</td>\n",
       "      <td>NaN</td>\n",
       "      <td>NaN</td>\n",
       "    </tr>\n",
       "    <tr>\n",
       "      <th>1</th>\n",
       "      <td>4c6165973986e21ea472964f</td>\n",
       "      <td>Dong Fang Mei Shi Fan Dian 东方美食饭店 (Oriental Ch...</td>\n",
       "      <td>[{'id': '52af3a9f3cf9994f4e043bef', 'name': 'D...</td>\n",
       "      <td>v-1589560834</td>\n",
       "      <td>False</td>\n",
       "      <td>195 New Bridge Road</td>\n",
       "      <td>NaN</td>\n",
       "      <td>1.284209</td>\n",
       "      <td>103.843685</td>\n",
       "      <td>[{'label': 'display', 'lat': 1.284209239328939...</td>\n",
       "      <td>8011</td>\n",
       "      <td>SG</td>\n",
       "      <td>Singapore</td>\n",
       "      <td>Singapore</td>\n",
       "      <td>[195 New Bridge Road, 059425, Singapore]</td>\n",
       "      <td>059425</td>\n",
       "      <td>Chinatown</td>\n",
       "      <td>NaN</td>\n",
       "      <td>NaN</td>\n",
       "    </tr>\n",
       "    <tr>\n",
       "      <th>2</th>\n",
       "      <td>4d47e3af847e6dcb176398c4</td>\n",
       "      <td>Wan Hao Chinese Restaurant</td>\n",
       "      <td>[{'id': '4bf58dd8d48988d145941735', 'name': 'C...</td>\n",
       "      <td>v-1589560834</td>\n",
       "      <td>False</td>\n",
       "      <td>Level 3, Marriott Singapore Tang Plaza</td>\n",
       "      <td>320 Orchard Rd.</td>\n",
       "      <td>1.305004</td>\n",
       "      <td>103.832916</td>\n",
       "      <td>[{'label': 'display', 'lat': 1.305004, 'lng': ...</td>\n",
       "      <td>5442</td>\n",
       "      <td>SG</td>\n",
       "      <td>Singapore</td>\n",
       "      <td>Singapore</td>\n",
       "      <td>[Level 3, Marriott Singapore Tang Plaza (320 O...</td>\n",
       "      <td>238865</td>\n",
       "      <td>NaN</td>\n",
       "      <td>NaN</td>\n",
       "      <td>NaN</td>\n",
       "    </tr>\n",
       "    <tr>\n",
       "      <th>3</th>\n",
       "      <td>4bab5c81f964a52061a33ae3</td>\n",
       "      <td>Guan Kitchen Chinese Restaurant 壮元府传统美食</td>\n",
       "      <td>[{'id': '4bf58dd8d48988d142941735', 'name': 'A...</td>\n",
       "      <td>v-1589560834</td>\n",
       "      <td>False</td>\n",
       "      <td>221 River Valley Rd.</td>\n",
       "      <td>NaN</td>\n",
       "      <td>1.293827</td>\n",
       "      <td>103.842424</td>\n",
       "      <td>[{'label': 'display', 'lat': 1.293827469570317...</td>\n",
       "      <td>6958</td>\n",
       "      <td>SG</td>\n",
       "      <td>Singapore</td>\n",
       "      <td>Singapore</td>\n",
       "      <td>[221 River Valley Rd., Singapore]</td>\n",
       "      <td>NaN</td>\n",
       "      <td>NaN</td>\n",
       "      <td>NaN</td>\n",
       "      <td>NaN</td>\n",
       "    </tr>\n",
       "    <tr>\n",
       "      <th>4</th>\n",
       "      <td>4daac6cfcda1652a2b943b71</td>\n",
       "      <td>Yang Gui Fei Chinese Restaurant  羊貴妃</td>\n",
       "      <td>[{'id': '4bf58dd8d48988d145941735', 'name': 'C...</td>\n",
       "      <td>v-1589560834</td>\n",
       "      <td>False</td>\n",
       "      <td>18 Smith Street</td>\n",
       "      <td>NaN</td>\n",
       "      <td>1.282152</td>\n",
       "      <td>103.844470</td>\n",
       "      <td>[{'label': 'display', 'lat': 1.282152020989047...</td>\n",
       "      <td>8256</td>\n",
       "      <td>SG</td>\n",
       "      <td>Singapore</td>\n",
       "      <td>Singapore</td>\n",
       "      <td>[18 Smith Street, Singapore]</td>\n",
       "      <td>NaN</td>\n",
       "      <td>NaN</td>\n",
       "      <td>NaN</td>\n",
       "      <td>NaN</td>\n",
       "    </tr>\n",
       "  </tbody>\n",
       "</table>\n",
       "</div>"
      ],
      "text/plain": [
       "                         id  ... venuePage.id\n",
       "0  4d1eb3ed16cfb60c807e4b61  ...          NaN\n",
       "1  4c6165973986e21ea472964f  ...          NaN\n",
       "2  4d47e3af847e6dcb176398c4  ...          NaN\n",
       "3  4bab5c81f964a52061a33ae3  ...          NaN\n",
       "4  4daac6cfcda1652a2b943b71  ...          NaN\n",
       "\n",
       "[5 rows x 19 columns]"
      ]
     },
     "execution_count": 7,
     "metadata": {
      "tags": []
     },
     "output_type": "execute_result"
    }
   ],
   "source": [
    "# assign relevant part of JSON to venues\n",
    "venues = results['response']['venues']\n",
    "\n",
    "# tranform venues into a dataframe\n",
    "df = pd.json_normalize(venues)\n",
    "for i, j in df.iterrows():\n",
    "  temp = \"Singapore\"\n",
    "  if (j['location.country'] != temp):\n",
    "    df = df.drop([i])\n",
    "  if (j['id'] == '4d88629b99c2a1cd33bf65d7'):\n",
    "    df = df.drop([i])\n",
    "df.head()"
   ]
  },
  {
   "cell_type": "markdown",
   "metadata": {
    "colab_type": "text",
    "id": "TUWLu5QkMFPk"
   },
   "source": [
    "This function is hardcoded to get the district of a place based on the first two numbers of the postal code (assuming that the first two numbers are passed in). Another method, especially for larger datasets, would be to use a direct address table"
   ]
  },
  {
   "cell_type": "code",
   "execution_count": 0,
   "metadata": {
    "colab": {},
    "colab_type": "code",
    "id": "PYYwF2qwx6BG"
   },
   "outputs": [],
   "source": [
    "def get_district(code):\n",
    "  i = int(code)\n",
    "  if (i<=6):\n",
    "    return 1\n",
    "  elif (i == 7 or i == 8):\n",
    "    return 2\n",
    "  elif (i>=14 and i<=16):\n",
    "    return 3\n",
    "  elif (i>=9 and i<=10):\n",
    "    return 4\n",
    "  elif (i>=11 and i<=13):\n",
    "    return 5\n",
    "  elif (i== 17):\n",
    "    return 6\n",
    "  elif (i>=18 and i<=19):\n",
    "    return 7\n",
    "  elif (i>=20 and i<=21):\n",
    "    return 8\n",
    "  elif (i>=22 and i<=23):\n",
    "    return 9\n",
    "  elif (i>=24 and i<=27):\n",
    "    return 10\n",
    "  elif (i>=28 and i<=30):\n",
    "    return 11\n",
    "  elif (i>=31 and i<=33):\n",
    "    return 12\n",
    "  elif (i>=34 and i<=37):\n",
    "    return 13\n",
    "  elif (i>=38 and i<=41):\n",
    "    return 14\n",
    "  elif (i>=42 and i<=45):\n",
    "    return 15\n",
    "  elif (i>=46 and i<=48):\n",
    "    return 16\n",
    "  elif (i>=49 and i<=50 or i == 81):\n",
    "    return 17\n",
    "  elif (i>=51 and i<=52):\n",
    "    return 18\n",
    "  elif (i>=53 and i<=55 or i == 82):\n",
    "    return 19\n",
    "  elif (i>=56 and i<=57):\n",
    "    return 20\n",
    "  elif (i>=58 and i<=59):\n",
    "    return 21\n",
    "  elif (i>=60 and i<=64):\n",
    "    return 22\n",
    "  elif (i>=65 and i<=68):\n",
    "    return 23\n",
    "  elif (i>=69 and i<=71):\n",
    "    return 24\n",
    "  elif (i>=72 and i<=73):\n",
    "    return 25\n",
    "  elif (i>=77 and i<=78):\n",
    "    return 26\n",
    "  elif (i>=75 and i<=76):\n",
    "    return 27\n",
    "  elif (i>=79 and i<=80):\n",
    "    return 28\n",
    "  else:\n",
    "    return 0"
   ]
  },
  {
   "cell_type": "markdown",
   "metadata": {
    "colab_type": "text",
    "id": "qkr9948_McQ4"
   },
   "source": [
    "We iterate through the addresses and get the districts. In the three cases where the postal code isn't available, we just manually populate the postal code"
   ]
  },
  {
   "cell_type": "code",
   "execution_count": 0,
   "metadata": {
    "colab": {},
    "colab_type": "code",
    "id": "JXH-EBUvr3sH"
   },
   "outputs": [],
   "source": [
    "lst = []\n",
    "for i, j in df.iterrows():\n",
    "  lat = j['location.lat']\n",
    "  lng = j['location.lng']\n",
    "  geolocator = Nominatim(user_agent=\"capstone\")\n",
    "  location = geolocator.reverse(str(lat) + \", \" + str(lng))\n",
    "  if ('postcode' in location.raw['address']):\n",
    "    postcode = location.raw['address']['postcode']\n",
    "    if (len(postcode) == 5):\n",
    "      postcode = \"0\" + postcode\n",
    "    #print(str(i) + \", \" + str(get_district(postcode[0:2])))\n",
    "    lst.append(get_district(postcode[0:2]))\n",
    "  else:\n",
    "    place_id = location.raw['place_id']\n",
    "    if (place_id == 114548700):\n",
    "      postcode = \"038983\"\n",
    "    elif (place_id == 192025562):\n",
    "      postcode = \"180008\"\n",
    "    elif (place_id == 236542830):\n",
    "      postcode = \"238360\"\n",
    "    #print(str(i) + \", \" + str(get_district(postcode[0:2])))\n",
    "    lst.append(get_district(postcode[0:2]))"
   ]
  },
  {
   "cell_type": "code",
   "execution_count": 10,
   "metadata": {
    "colab": {
     "base_uri": "https://localhost:8080/",
     "height": 35
    },
    "colab_type": "code",
    "id": "-DvKb3ZamlWI",
    "outputId": "13f1dbf9-e121-43db-e579-2134f1ec99e3"
   },
   "outputs": [
    {
     "data": {
      "text/plain": [
       "38"
      ]
     },
     "execution_count": 10,
     "metadata": {
      "tags": []
     },
     "output_type": "execute_result"
    }
   ],
   "source": [
    "len(lst)\n"
   ]
  },
  {
   "cell_type": "markdown",
   "metadata": {
    "colab_type": "text",
    "id": "mh56Um4PMoxU"
   },
   "source": [
    "Adding the district values to the dataframe"
   ]
  },
  {
   "cell_type": "code",
   "execution_count": 0,
   "metadata": {
    "colab": {},
    "colab_type": "code",
    "id": "c7quAXm40N5N"
   },
   "outputs": [],
   "source": [
    "df['district'] = lst"
   ]
  },
  {
   "cell_type": "code",
   "execution_count": 0,
   "metadata": {
    "colab": {},
    "colab_type": "code",
    "id": "eN4AaPkG0749"
   },
   "outputs": [],
   "source": [
    "df = df[['name','location.lat','location.lng','district']]"
   ]
  },
  {
   "cell_type": "markdown",
   "metadata": {
    "colab_type": "text",
    "id": "EWsor9-vMuuh"
   },
   "source": [
    "Here, we count how many restaurants are in each districts. As you can see from df1, many districts do not even contain one restaurant"
   ]
  },
  {
   "cell_type": "code",
   "execution_count": 0,
   "metadata": {
    "colab": {},
    "colab_type": "code",
    "id": "Ix8HcuRK1UuK"
   },
   "outputs": [],
   "source": [
    "df1 = df['district'].value_counts().to_frame()\n",
    "df1.rename(columns = {'district' : 'count'}, inplace=True)\n",
    "df1.columns.name = 'district'"
   ]
  },
  {
   "cell_type": "code",
   "execution_count": 14,
   "metadata": {
    "colab": {
     "base_uri": "https://localhost:8080/",
     "height": 520
    },
    "colab_type": "code",
    "id": "KHfU9Jg51hOd",
    "outputId": "7a8e87f4-fec2-4c7d-fffd-7fdd1af3ddd7"
   },
   "outputs": [
    {
     "data": {
      "text/html": [
       "<div>\n",
       "<style scoped>\n",
       "    .dataframe tbody tr th:only-of-type {\n",
       "        vertical-align: middle;\n",
       "    }\n",
       "\n",
       "    .dataframe tbody tr th {\n",
       "        vertical-align: top;\n",
       "    }\n",
       "\n",
       "    .dataframe thead th {\n",
       "        text-align: right;\n",
       "    }\n",
       "</style>\n",
       "<table border=\"1\" class=\"dataframe\">\n",
       "  <thead>\n",
       "    <tr style=\"text-align: right;\">\n",
       "      <th>district</th>\n",
       "      <th>count</th>\n",
       "    </tr>\n",
       "  </thead>\n",
       "  <tbody>\n",
       "    <tr>\n",
       "      <th>1</th>\n",
       "      <td>11</td>\n",
       "    </tr>\n",
       "    <tr>\n",
       "      <th>9</th>\n",
       "      <td>4</td>\n",
       "    </tr>\n",
       "    <tr>\n",
       "      <th>22</th>\n",
       "      <td>3</td>\n",
       "    </tr>\n",
       "    <tr>\n",
       "      <th>12</th>\n",
       "      <td>3</td>\n",
       "    </tr>\n",
       "    <tr>\n",
       "      <th>7</th>\n",
       "      <td>3</td>\n",
       "    </tr>\n",
       "    <tr>\n",
       "      <th>23</th>\n",
       "      <td>2</td>\n",
       "    </tr>\n",
       "    <tr>\n",
       "      <th>20</th>\n",
       "      <td>2</td>\n",
       "    </tr>\n",
       "    <tr>\n",
       "      <th>19</th>\n",
       "      <td>2</td>\n",
       "    </tr>\n",
       "    <tr>\n",
       "      <th>15</th>\n",
       "      <td>2</td>\n",
       "    </tr>\n",
       "    <tr>\n",
       "      <th>27</th>\n",
       "      <td>1</td>\n",
       "    </tr>\n",
       "    <tr>\n",
       "      <th>14</th>\n",
       "      <td>1</td>\n",
       "    </tr>\n",
       "    <tr>\n",
       "      <th>11</th>\n",
       "      <td>1</td>\n",
       "    </tr>\n",
       "    <tr>\n",
       "      <th>5</th>\n",
       "      <td>1</td>\n",
       "    </tr>\n",
       "    <tr>\n",
       "      <th>3</th>\n",
       "      <td>1</td>\n",
       "    </tr>\n",
       "    <tr>\n",
       "      <th>2</th>\n",
       "      <td>1</td>\n",
       "    </tr>\n",
       "  </tbody>\n",
       "</table>\n",
       "</div>"
      ],
      "text/plain": [
       "district  count\n",
       "1            11\n",
       "9             4\n",
       "22            3\n",
       "12            3\n",
       "7             3\n",
       "23            2\n",
       "20            2\n",
       "19            2\n",
       "15            2\n",
       "27            1\n",
       "14            1\n",
       "11            1\n",
       "5             1\n",
       "3             1\n",
       "2             1"
      ]
     },
     "execution_count": 14,
     "metadata": {
      "tags": []
     },
     "output_type": "execute_result"
    }
   ],
   "source": [
    "df1"
   ]
  },
  {
   "cell_type": "markdown",
   "metadata": {
    "colab_type": "text",
    "id": "5XpFBfdvMz4K"
   },
   "source": [
    "Now, we can draw the bar graph for the number of Chinese restaurants per district"
   ]
  },
  {
   "cell_type": "code",
   "execution_count": 15,
   "metadata": {
    "colab": {
     "base_uri": "https://localhost:8080/",
     "height": 642
    },
    "colab_type": "code",
    "id": "oK4tzeL81htz",
    "outputId": "4cc9b5ad-4feb-43e9-fd77-40a9eb86ce6f"
   },
   "outputs": [
    {
     "data": {
      "text/plain": [
       "<matplotlib.axes._subplots.AxesSubplot at 0x7f8a07d05da0>"
      ]
     },
     "execution_count": 15,
     "metadata": {
      "tags": []
     },
     "output_type": "execute_result"
    },
    {
     "data": {
      "image/png": "[encoded data removed]",
      "text/plain": [
       "<Figure size 1440x720 with 1 Axes>"
      ]
     },
     "metadata": {
      "needs_background": "light",
      "tags": []
     },
     "output_type": "display_data"
    }
   ],
   "source": [
    "ax = df1.plot(kind = 'bar',figsize = (20,10), title = 'Number of Chinese Restaurants per District')\n",
    "ax.set(xlabel = 'District Code',ylabel = 'Count')\n",
    "ax"
   ]
  },
  {
   "cell_type": "markdown",
   "metadata": {
    "colab_type": "text",
    "id": "SR--ikqDM7RL"
   },
   "source": [
    "Next, we draw a map of all the restaurants"
   ]
  },
  {
   "cell_type": "code",
   "execution_count": 23,
   "metadata": {
    "colab": {
     "base_uri": "https://localhost:8080/",
     "height": 1000
    },
    "colab_type": "code",
    "id": "eO5G9mtH39U8",
    "outputId": "63d37465-770d-48bb-f9e4-5d108aa8710a"
   },
   "outputs": [
    {
     "data": {
      "text/html": [
       "<div style=\"width:100%;\"><div style=\"position:relative;width:100%;height:0;padding-bottom:60%;\"><span style=\"color:#565656\">Make this Notebook Trusted to load map: File -> Trust Notebook</span><iframe src=\"about:blank\" style=\"position:absolute;width:100%;height:100%;left:0;top:0;border:none !important;\" data-html=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 onload=\"this.contentDocument.open();this.contentDocument.write(atob(this.getAttribute('data-html')));this.contentDocument.close();\" allowfullscreen webkitallowfullscreen mozallowfullscreen></iframe></div></div>"
      ],
      "text/plain": [
       "<folium.folium.Map at 0x7f8a07741a90>"
      ]
     },
     "execution_count": 23,
     "metadata": {
      "tags": []
     },
     "output_type": "execute_result"
    }
   ],
   "source": [
    "latitude = 1.41\n",
    "longitude = 103.8198\n",
    "sg = folium.Map(location=[latitude, longitude], zoom_start=13)\n",
    "for lat, lng, name in zip(df['location.lat'], df['location.lng'], df['name']):\n",
    "    label = name\n",
    "    label = folium.Popup(label, parse_html=True)\n",
    "    folium.CircleMarker(\n",
    "        [lat, lng],\n",
    "        radius=5,\n",
    "        popup=label,\n",
    "        color='blue',\n",
    "        fill=True,\n",
    "        fill_color='cyan',\n",
    "        fill_opacity=0.7,\n",
    "        parse_html=False).add_to(sg)  \n",
    "    \n",
    "sg"
   ]
  },
  {
   "cell_type": "markdown",
   "metadata": {
    "colab_type": "text",
    "id": "iOBSt4ynM-zA"
   },
   "source": [
    "Now, we create coordinates in preparation for using DBSCAN"
   ]
  },
  {
   "cell_type": "code",
   "execution_count": 0,
   "metadata": {
    "colab": {},
    "colab_type": "code",
    "id": "N3fhtplL6Fph"
   },
   "outputs": [],
   "source": [
    "df1 = df[['location.lat','location.lng']].copy()\n",
    "coords = df1.to_numpy()"
   ]
  },
  {
   "cell_type": "markdown",
   "metadata": {
    "colab_type": "text",
    "id": "N5he33lHNMHu"
   },
   "source": [
    "The code below clusters the restaurants based on DBSCAN. Note that we don't need the restaurant names here."
   ]
  },
  {
   "cell_type": "code",
   "execution_count": 0,
   "metadata": {
    "colab": {},
    "colab_type": "code",
    "id": "-wCkrP1m9T6c"
   },
   "outputs": [],
   "source": [
    "kms_per_radian = 6371.0088\n",
    "epsilon = 1 / kms_per_radian\n",
    "db = DBSCAN(eps = epsilon, min_samples = 2).fit(np.radians(coords))\n",
    "cluster_labels = db.labels_\n",
    "n_clusters = len(set(cluster_labels))\n",
    "clusters = pd.Series([coords[cluster_labels == n]for n in range(-1, n_clusters)])"
   ]
  },
  {
   "cell_type": "code",
   "execution_count": 33,
   "metadata": {
    "colab": {
     "base_uri": "https://localhost:8080/",
     "height": 109
    },
    "colab_type": "code",
    "id": "f_FGBG78Dj2Z",
    "outputId": "ce6ad6a9-b34d-4cab-8d84-67db6c51f560"
   },
   "outputs": [
    {
     "data": {
      "text/plain": [
       "0    [[1.3217571863670343, 103.82503318226446], [1....\n",
       "1    [[1.2842092393289395, 103.84368538856506], [1....\n",
       "2    [[1.3034227, 103.904594], [1.302566, 103.905128]]\n",
       "3                                                   []\n",
       "dtype: object"
      ]
     },
     "execution_count": 33,
     "metadata": {
      "tags": []
     },
     "output_type": "execute_result"
    }
   ],
   "source": [
    "clusters"
   ]
  },
  {
   "cell_type": "markdown",
   "metadata": {
    "colab_type": "text",
    "id": "b_mTOQgaNCus"
   },
   "source": [
    "The two functions below set the border color and fill color for the marker, respectively"
   ]
  },
  {
   "cell_type": "code",
   "execution_count": 0,
   "metadata": {
    "colab": {},
    "colab_type": "code",
    "id": "HWz7lSOFCCx1"
   },
   "outputs": [],
   "source": [
    "def get_color(n):\n",
    "  if (n == 0):\n",
    "    return 'black'\n",
    "  if (n == 1):\n",
    "    return 'red'\n",
    "  if (n == 2):\n",
    "    return 'blue'\n",
    "  if (n == 3):\n",
    "    return 'orange'\n",
    "  if (n == 4):\n",
    "    return 'purple'\n",
    "  if (n == 5):\n",
    "    return 'cyan'"
   ]
  },
  {
   "cell_type": "code",
   "execution_count": 0,
   "metadata": {
    "colab": {},
    "colab_type": "code",
    "id": "ArzeGr9fCibU"
   },
   "outputs": [],
   "source": [
    "def get_fill(n):\n",
    "  if (n == 0):\n",
    "    return 'grey'\n",
    "  if (n == 1):\n",
    "    return 'orange'\n",
    "  if (n == 2):\n",
    "    return 'cyan'\n",
    "  if (n == 3):\n",
    "    return 'yellow'\n",
    "  if (n == 4):\n",
    "    return 'deeppink'\n",
    "  if (n == 5):\n",
    "    return 'white'"
   ]
  },
  {
   "cell_type": "markdown",
   "metadata": {
    "colab_type": "text",
    "id": "rCVpqr9lNIeK"
   },
   "source": [
    "This code creates the map with the markers."
   ]
  },
  {
   "cell_type": "code",
   "execution_count": 36,
   "metadata": {
    "colab": {
     "base_uri": "https://localhost:8080/",
     "height": 1000
    },
    "colab_type": "code",
    "id": "WFyqWUJ9ADVK",
    "outputId": "db2e412f-b80e-471c-acd0-81028c1f238d"
   },
   "outputs": [
    {
     "name": "stdout",
     "output_type": "stream",
     "text": [
      "0, 1.3217571863670343, 103.82503318226446\n",
      "0, 1.305004, 103.832916\n",
      "0, 1.351757, 103.863468\n",
      "0, 1.3404378977363178, 103.84721671200596\n",
      "0, 1.326787, 103.847478\n",
      "0, 1.320461, 103.863248\n",
      "0, 1.3142859082610292, 103.8873103407875\n",
      "0, 1.302502, 103.764545\n",
      "0, 1.346764, 103.743379\n",
      "0, 1.4293725569435694, 103.83646488189697\n",
      "0, 1.384173578230099, 103.73672581527235\n",
      "0, 1.328725114118995, 103.73741814113846\n",
      "0, 1.338739, 103.705303\n",
      "0, 1.3524185849536412, 103.87953009845229\n",
      "0, 1.3772140756089977, 103.82804389947383\n",
      "0, 1.3425036845731033, 103.73270381231949\n",
      "0, 1.352747359128513, 103.83529967599257\n",
      "1, 1.2842092393289395, 103.84368538856506\n",
      "1, 1.293827469570317, 103.84242359859782\n",
      "1, 1.2821520209890473, 103.84446966835456\n",
      "1, 1.2825214049749114, 103.84864909125106\n",
      "1, 1.2891362380546174, 103.84488983562346\n",
      "1, 1.2897835478713977, 103.83653926177655\n",
      "1, 1.291145, 103.845801\n",
      "1, 1.2977582321225103, 103.85668317019133\n",
      "1, 1.284522, 103.843916\n",
      "1, 1.297628, 103.851998\n",
      "1, 1.2971779535735608, 103.85766266981054\n",
      "1, 1.2843017578125, 103.84319305419922\n",
      "1, 1.289784, 103.856369\n",
      "1, 1.2934170906507616, 103.84166143786518\n",
      "1, 1.2847459, 103.843864\n",
      "1, 1.2786487997775846, 103.84166284676877\n",
      "1, 1.2908788958278918, 103.85751857242265\n",
      "1, 1.2947754899053416, 103.85891963588689\n",
      "1, 1.2892934252101105, 103.85595917701721\n",
      "2, 1.3034227, 103.904594\n",
      "2, 1.302566, 103.905128\n"
     ]
    },
    {
     "data": {
      "text/html": [
       "<div style=\"width:100%;\"><div style=\"position:relative;width:100%;height:0;padding-bottom:60%;\"><span style=\"color:#565656\">Make this Notebook Trusted to load map: File -> Trust Notebook</span><iframe src=\"about:blank\" style=\"position:absolute;width:100%;height:100%;left:0;top:0;border:none !important;\" data-html=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 onload=\"this.contentDocument.open();this.contentDocument.write(atob(this.getAttribute('data-html')));this.contentDocument.close();\" allowfullscreen webkitallowfullscreen mozallowfullscreen></iframe></div></div>"
      ],
      "text/plain": [
       "<folium.folium.Map at 0x7f8a0765fef0>"
      ]
     },
     "execution_count": 36,
     "metadata": {
      "tags": []
     },
     "output_type": "execute_result"
    }
   ],
   "source": [
    "smap = folium.Map(location = [latitude, longitude], zoom_start = 13)\n",
    "for i, j in enumerate(clusters):\n",
    "  for k in j:\n",
    "    print(str(i) + \", \" + str(k[0]) + \", \" + str(k[1]))\n",
    "    color = get_color(i)\n",
    "    lat = k[0]\n",
    "    lng = k[1]\n",
    "    fill_color = get_fill(i)\n",
    "    folium.CircleMarker([lat,lng],radius = 10, color = color, fill = True, fill_color = fill_color, fill_opacity = 0.5, parse_html=False).add_to(smap)\n",
    "smap"
   ]
  },
  {
   "cell_type": "code",
   "execution_count": 0,
   "metadata": {
    "colab": {},
    "colab_type": "code",
    "id": "K3xwk4g8NqgJ"
   },
   "outputs": [],
   "source": []
  }
 ],
 "metadata": {
  "colab": {
   "name": "Capstone week 5.ipynb",
   "provenance": []
  },
  "kernelspec": {
   "display_name": "Python 3",
   "language": "python",
   "name": "python3"
  },
  "language_info": {
   "codemirror_mode": {
    "name": "ipython",
    "version": 3
   },
   "file_extension": ".py",
   "mimetype": "text/x-python",
   "name": "python",
   "nbconvert_exporter": "python",
   "pygments_lexer": "ipython3",
   "version": "3.5.4"
  }
 },
 "nbformat": 4,
 "nbformat_minor": 1
}
