{
  "nbformat": 4,
  "nbformat_minor": 0,
  "metadata": {
    "colab": {
      "name": "Coursera_Capstone_Week3.ipynb",
      "provenance": []
    },
    "kernelspec": {
      "name": "python3",
      "display_name": "Python 3"
    }
  },
  "cells": [
    {
      "cell_type": "markdown",
      "metadata": {
        "id": "mvOiLzKaV63J",
        "colab_type": "text"
      },
      "source": [
        "#Scrap content from wiki page"
      ]
    },
    {
      "cell_type": "markdown",
      "metadata": {
        "id": "ATXjbRJcWGGV",
        "colab_type": "text"
      },
      "source": [
        "Import packages"
      ]
    },
    {
      "cell_type": "code",
      "metadata": {
        "id": "6rxOCOX8Mut0",
        "colab_type": "code",
        "colab": {}
      },
      "source": [
        "#import statements\n",
        "import pandas as pd\n",
        "import numpy as np\n",
        "from sklearn.cluster import KMeans\n",
        "from bs4 import BeautifulSoup as bsoup\n",
        "import folium\n",
        "from geopy.geocoders import Nominatim\n",
        "import requests"
      ],
      "execution_count": 0,
      "outputs": []
    },
    {
      "cell_type": "markdown",
      "metadata": {
        "id": "Zt-Jdl2dWDbh",
        "colab_type": "text"
      },
      "source": [
        "Scrap the table from the wikipedia page"
      ]
    },
    {
      "cell_type": "code",
      "metadata": {
        "id": "8tqN3TlPN4QS",
        "colab_type": "code",
        "colab": {}
      },
      "source": [
        "req = requests.get('https://en.wikipedia.org/wiki/List_of_postal_codes_of_Canada:_M').text\n",
        "soup = bsoup(req, 'html.parser')\n",
        "tbody = soup.find(\"tbody\")\n",
        "rows = tbody.find_all(\"tr\")\n",
        "res = []\n",
        "\n",
        "for i ,j in enumerate(rows):\n",
        "  cnt = i-1\n",
        "  #print(cnt)\n",
        "  #print()\n",
        "  temp = j.find_all(\"td\")\n",
        "  tmp = []\n",
        "  for k in temp:\n",
        "    strk = str(k)\n",
        "    strk = strk.replace(\"<td>\",\"\")\n",
        "    strk = strk.replace(\"</td>\",\"\")\n",
        "    strk = strk.replace(\"\\n\",\"\")\n",
        "    #print(strk)\n",
        "    #print()\n",
        "    tmp.append(strk)\n",
        "  res.append(tmp)\n",
        "df = pd.DataFrame(res,columns = ['PostalCode','Borough','Neighborhood'])\n"
      ],
      "execution_count": 0,
      "outputs": []
    },
    {
      "cell_type": "markdown",
      "metadata": {
        "id": "khvXDMc-WUhX",
        "colab_type": "text"
      },
      "source": [
        "Remove rows that are not assigned and group by neighborhood, concatenating with a comma"
      ]
    },
    {
      "cell_type": "code",
      "metadata": {
        "id": "UApHrheDOCXg",
        "colab_type": "code",
        "colab": {}
      },
      "source": [
        "for i, j in df.iterrows():\n",
        "  temp = \"Not assigned\"\n",
        "  if (j[1] == temp):\n",
        "    df = df.drop([i])\n",
        "df=df.drop([0])\n",
        "df['Neighborhood']= df.groupby(['PostalCode'])['Neighborhood'].transform(lambda x: ', '.join(x))\n",
        "df.drop_duplicates()"
      ],
      "execution_count": 0,
      "outputs": []
    },
    {
      "cell_type": "markdown",
      "metadata": {
        "id": "7LcoYaQEXAnt",
        "colab_type": "text"
      },
      "source": [
        "Print df shape"
      ]
    },
    {
      "cell_type": "code",
      "metadata": {
        "id": "5cBXMI2wWeRq",
        "colab_type": "code",
        "colab": {
          "base_uri": "https://localhost:8080/",
          "height": 35
        },
        "outputId": "4ec84262-45e7-44fc-c8d2-984462841a79"
      },
      "source": [
        "df.shape"
      ],
      "execution_count": 74,
      "outputs": [
        {
          "output_type": "execute_result",
          "data": {
            "text/plain": [
              "(103, 3)"
            ]
          },
          "metadata": {
            "tags": []
          },
          "execution_count": 74
        }
      ]
    },
    {
      "cell_type": "markdown",
      "metadata": {
        "id": "6tTcCOkuXkoG",
        "colab_type": "text"
      },
      "source": [
        "#Create dataframe with geo properties"
      ]
    },
    {
      "cell_type": "markdown",
      "metadata": {
        "id": "pqiZofhPXtB4",
        "colab_type": "text"
      },
      "source": [
        "Download csv file"
      ]
    },
    {
      "cell_type": "code",
      "metadata": {
        "id": "-qxAcVhvXmCh",
        "colab_type": "code",
        "colab": {
          "base_uri": "https://localhost:8080/",
          "height": 665
        },
        "outputId": "9b1f773e-37b6-432d-98ac-082bd4afadb0"
      },
      "source": [
        "!wget http://cocl.us/Geospatial_data"
      ],
      "execution_count": 76,
      "outputs": [
        {
          "output_type": "stream",
          "text": [
            "--2020-05-15 12:45:54--  http://cocl.us/Geospatial_data\n",
            "Resolving cocl.us (cocl.us)... 119.81.168.76, 161.202.50.39, 119.81.168.75\n",
            "Connecting to cocl.us (cocl.us)|119.81.168.76|:80... connected.\n",
            "HTTP request sent, awaiting response... 301 Moved Permanently\n",
            "Location: https://cocl.us/Geospatial_data [following]\n",
            "--2020-05-15 12:45:54--  https://cocl.us/Geospatial_data\n",
            "Connecting to cocl.us (cocl.us)|119.81.168.76|:443... connected.\n",
            "HTTP request sent, awaiting response... 301 Moved Permanently\n",
            "Location: https://ibm.box.com/shared/static/9afzr83pps4pwf2smjjcf1y5mvgb18rr.csv [following]\n",
            "--2020-05-15 12:45:58--  https://ibm.box.com/shared/static/9afzr83pps4pwf2smjjcf1y5mvgb18rr.csv\n",
            "Resolving ibm.box.com (ibm.box.com)... 103.116.4.197\n",
            "Connecting to ibm.box.com (ibm.box.com)|103.116.4.197|:443... connected.\n",
            "HTTP request sent, awaiting response... 301 Moved Permanently\n",
            "Location: /public/static/9afzr83pps4pwf2smjjcf1y5mvgb18rr.csv [following]\n",
            "--2020-05-15 12:45:59--  https://ibm.box.com/public/static/9afzr83pps4pwf2smjjcf1y5mvgb18rr.csv\n",
            "Reusing existing connection to ibm.box.com:443.\n",
            "HTTP request sent, awaiting response... 301 Moved Permanently\n",
            "Location: https://ibm.ent.box.com/public/static/9afzr83pps4pwf2smjjcf1y5mvgb18rr.csv [following]\n",
            "--2020-05-15 12:45:59--  https://ibm.ent.box.com/public/static/9afzr83pps4pwf2smjjcf1y5mvgb18rr.csv\n",
            "Resolving ibm.ent.box.com (ibm.ent.box.com)... 103.116.4.211\n",
            "Connecting to ibm.ent.box.com (ibm.ent.box.com)|103.116.4.211|:443... connected.\n",
            "HTTP request sent, awaiting response... 302 Found\n",
            "Location: https://public.boxcloud.com/d/1/b1!BMwvY5_BSRD_82YfqfJpoYqAbjf11cVc-u9wnZWPnY4J7RkfauxrmwiZbXXobNBZY8K0oMIWc86QUst5B19lsBa4CptBlGCdzDXksy1vXcBDixQ9tfWmNA6_yfMQuRkBb3xoYIdmEEQLkb8Nq9FQMVjWivuOkicjvJP236fETbepgstzEHJ7HMwwU-e3HnyUbiBUyzdTp-r-8B-9c4dtaSBPKilvZcqyPFr_5bF99_CXGG7G1qCGfLvH7mGIHTWOpu0U2pSYI-j-Intf90N2QP10-UJMn1I8ZCA21yvLnLTU0m0d-8D8cnUYZw7GiXD4IFFBcTX-iA9BJh0TVwAhWmIxXcCDEZYzwd-myUUvXU8SuhGiSpL0WSgfo7_gVfko_b4280IO8Diwf_hUEoWe38FSJnXE8o7w3y8lWRcDXsC4ESQU3xldUcw9BgIf5xyl7_xPruJCcDAKsVc3cK9vWfDcki6mmB_dCNn-0-NufunNHO7qbaG7ZymPgUSprydcIDLs247CO7rTsCoInfUe1IlSNefAyiqiJOQgSypR4bB0BoOFrtyJIz7_hmiKrOz6XrkITzY1Qt48SHwEXwOksGXz9ZToZGpeSY0ARxfGZcoLjfRFLWZF_7eF_5Spr71f6ZjZeEYiarji7Z-YNl5y5JlYBfHAItuJ1A_z_u0MQJOTrGhVOCqJOTVYbG58T8rMgmxF_y-wXIu7PqkYMp0Se4DUUrT6IB5P2QsNvqNa51Uoxfck2gEsiFrps_QGYxFTOd71ko31A9CooHTW3B1i7M5YZ6LGe6cLRnpF0Zt-2fvXVNNlFGG_n0O4VNnAC2YlvHnZZuJ6deByFxQDlh7UfvdRCAKxUtlTL45QegLbva5V8yHX_XNXFhoOUAZgFeg-DY67636JKRxTNiCIGR7A5bR8HnthCJ0Xs45MzGVOLxD-06z0irxDGuFT9MDrIjBJWCARGicJeJoW3vWa401B77WAVN0WnFlC6bWJfVEP2DlRu1xHZhNi-QMcKLJJ2C738a0Q-cqbcYfHStvIQSZHbbNGDYV2PplM52Q3kSCcNsS1W6YSetoNtAsovYBk-fwN8k96JzEqDZTLzxpYJdwp560t3BPzysCZ0roOCsACvPaAFHob0qc1DO56hID_D0Q9vHLZJql6sHkrgMMla6gQOC1Yq-8bLgT9D0VAHMqjLiDLoZeTRZM9DiLN3brIUHAH7PvpGh4TWgcfGn90KTGvW59FkkORF6M_d1uT6VTGD_rjsQp9oZF1wcdo2VI3ft3ISAIk2C4jhyQStrq6R0lI5fsNevFIXtqoYSEAZf1YSNk2J_AFoTjQNqAvltNsvmalV_RymOGfQP7MWV2wGsnJsiIBqm-6v4Muc82CXo3fc-AMTsujfyy_0QpzLbNCwTSzv1cu6BV-lax8d9G7PDjaGZUv7I_462uSjIPnlOuTHOifR60./download [following]\n",
            "--2020-05-15 12:46:00--  https://public.boxcloud.com/d/1/b1!BMwvY5_BSRD_82YfqfJpoYqAbjf11cVc-u9wnZWPnY4J7RkfauxrmwiZbXXobNBZY8K0oMIWc86QUst5B19lsBa4CptBlGCdzDXksy1vXcBDixQ9tfWmNA6_yfMQuRkBb3xoYIdmEEQLkb8Nq9FQMVjWivuOkicjvJP236fETbepgstzEHJ7HMwwU-e3HnyUbiBUyzdTp-r-8B-9c4dtaSBPKilvZcqyPFr_5bF99_CXGG7G1qCGfLvH7mGIHTWOpu0U2pSYI-j-Intf90N2QP10-UJMn1I8ZCA21yvLnLTU0m0d-8D8cnUYZw7GiXD4IFFBcTX-iA9BJh0TVwAhWmIxXcCDEZYzwd-myUUvXU8SuhGiSpL0WSgfo7_gVfko_b4280IO8Diwf_hUEoWe38FSJnXE8o7w3y8lWRcDXsC4ESQU3xldUcw9BgIf5xyl7_xPruJCcDAKsVc3cK9vWfDcki6mmB_dCNn-0-NufunNHO7qbaG7ZymPgUSprydcIDLs247CO7rTsCoInfUe1IlSNefAyiqiJOQgSypR4bB0BoOFrtyJIz7_hmiKrOz6XrkITzY1Qt48SHwEXwOksGXz9ZToZGpeSY0ARxfGZcoLjfRFLWZF_7eF_5Spr71f6ZjZeEYiarji7Z-YNl5y5JlYBfHAItuJ1A_z_u0MQJOTrGhVOCqJOTVYbG58T8rMgmxF_y-wXIu7PqkYMp0Se4DUUrT6IB5P2QsNvqNa51Uoxfck2gEsiFrps_QGYxFTOd71ko31A9CooHTW3B1i7M5YZ6LGe6cLRnpF0Zt-2fvXVNNlFGG_n0O4VNnAC2YlvHnZZuJ6deByFxQDlh7UfvdRCAKxUtlTL45QegLbva5V8yHX_XNXFhoOUAZgFeg-DY67636JKRxTNiCIGR7A5bR8HnthCJ0Xs45MzGVOLxD-06z0irxDGuFT9MDrIjBJWCARGicJeJoW3vWa401B77WAVN0WnFlC6bWJfVEP2DlRu1xHZhNi-QMcKLJJ2C738a0Q-cqbcYfHStvIQSZHbbNGDYV2PplM52Q3kSCcNsS1W6YSetoNtAsovYBk-fwN8k96JzEqDZTLzxpYJdwp560t3BPzysCZ0roOCsACvPaAFHob0qc1DO56hID_D0Q9vHLZJql6sHkrgMMla6gQOC1Yq-8bLgT9D0VAHMqjLiDLoZeTRZM9DiLN3brIUHAH7PvpGh4TWgcfGn90KTGvW59FkkORF6M_d1uT6VTGD_rjsQp9oZF1wcdo2VI3ft3ISAIk2C4jhyQStrq6R0lI5fsNevFIXtqoYSEAZf1YSNk2J_AFoTjQNqAvltNsvmalV_RymOGfQP7MWV2wGsnJsiIBqm-6v4Muc82CXo3fc-AMTsujfyy_0QpzLbNCwTSzv1cu6BV-lax8d9G7PDjaGZUv7I_462uSjIPnlOuTHOifR60./download\n",
            "Resolving public.boxcloud.com (public.boxcloud.com)... 103.116.4.200\n",
            "Connecting to public.boxcloud.com (public.boxcloud.com)|103.116.4.200|:443... connected.\n",
            "HTTP request sent, awaiting response... 200 OK\n",
            "Length: 2891 (2.8K) [text/csv]\n",
            "Saving to: ‘Geospatial_data’\n",
            "\n",
            "Geospatial_data     100%[===================>]   2.82K  --.-KB/s    in 0s      \n",
            "\n",
            "2020-05-15 12:46:00 (45.9 MB/s) - ‘Geospatial_data’ saved [2891/2891]\n",
            "\n"
          ],
          "name": "stdout"
        }
      ]
    },
    {
      "cell_type": "markdown",
      "metadata": {
        "id": "J2KZu_ypYBVG",
        "colab_type": "text"
      },
      "source": [
        "Create dataframe for geofile"
      ]
    },
    {
      "cell_type": "code",
      "metadata": {
        "id": "5O3YSVMbXozT",
        "colab_type": "code",
        "colab": {
          "base_uri": "https://localhost:8080/",
          "height": 424
        },
        "outputId": "593076b8-554e-4edb-c1f7-21b47aa74b28"
      },
      "source": [
        "geo = pd.read_csv(\"./Geospatial_data\")\n",
        "geo"
      ],
      "execution_count": 78,
      "outputs": [
        {
          "output_type": "execute_result",
          "data": {
            "text/html": [
              "<div>\n",
              "<style scoped>\n",
              "    .dataframe tbody tr th:only-of-type {\n",
              "        vertical-align: middle;\n",
              "    }\n",
              "\n",
              "    .dataframe tbody tr th {\n",
              "        vertical-align: top;\n",
              "    }\n",
              "\n",
              "    .dataframe thead th {\n",
              "        text-align: right;\n",
              "    }\n",
              "</style>\n",
              "<table border=\"1\" class=\"dataframe\">\n",
              "  <thead>\n",
              "    <tr style=\"text-align: right;\">\n",
              "      <th></th>\n",
              "      <th>Postal Code</th>\n",
              "      <th>Latitude</th>\n",
              "      <th>Longitude</th>\n",
              "    </tr>\n",
              "  </thead>\n",
              "  <tbody>\n",
              "    <tr>\n",
              "      <th>0</th>\n",
              "      <td>M1B</td>\n",
              "      <td>43.806686</td>\n",
              "      <td>-79.194353</td>\n",
              "    </tr>\n",
              "    <tr>\n",
              "      <th>1</th>\n",
              "      <td>M1C</td>\n",
              "      <td>43.784535</td>\n",
              "      <td>-79.160497</td>\n",
              "    </tr>\n",
              "    <tr>\n",
              "      <th>2</th>\n",
              "      <td>M1E</td>\n",
              "      <td>43.763573</td>\n",
              "      <td>-79.188711</td>\n",
              "    </tr>\n",
              "    <tr>\n",
              "      <th>3</th>\n",
              "      <td>M1G</td>\n",
              "      <td>43.770992</td>\n",
              "      <td>-79.216917</td>\n",
              "    </tr>\n",
              "    <tr>\n",
              "      <th>4</th>\n",
              "      <td>M1H</td>\n",
              "      <td>43.773136</td>\n",
              "      <td>-79.239476</td>\n",
              "    </tr>\n",
              "    <tr>\n",
              "      <th>...</th>\n",
              "      <td>...</td>\n",
              "      <td>...</td>\n",
              "      <td>...</td>\n",
              "    </tr>\n",
              "    <tr>\n",
              "      <th>98</th>\n",
              "      <td>M9N</td>\n",
              "      <td>43.706876</td>\n",
              "      <td>-79.518188</td>\n",
              "    </tr>\n",
              "    <tr>\n",
              "      <th>99</th>\n",
              "      <td>M9P</td>\n",
              "      <td>43.696319</td>\n",
              "      <td>-79.532242</td>\n",
              "    </tr>\n",
              "    <tr>\n",
              "      <th>100</th>\n",
              "      <td>M9R</td>\n",
              "      <td>43.688905</td>\n",
              "      <td>-79.554724</td>\n",
              "    </tr>\n",
              "    <tr>\n",
              "      <th>101</th>\n",
              "      <td>M9V</td>\n",
              "      <td>43.739416</td>\n",
              "      <td>-79.588437</td>\n",
              "    </tr>\n",
              "    <tr>\n",
              "      <th>102</th>\n",
              "      <td>M9W</td>\n",
              "      <td>43.706748</td>\n",
              "      <td>-79.594054</td>\n",
              "    </tr>\n",
              "  </tbody>\n",
              "</table>\n",
              "<p>103 rows × 3 columns</p>\n",
              "</div>"
            ],
            "text/plain": [
              "    Postal Code   Latitude  Longitude\n",
              "0           M1B  43.806686 -79.194353\n",
              "1           M1C  43.784535 -79.160497\n",
              "2           M1E  43.763573 -79.188711\n",
              "3           M1G  43.770992 -79.216917\n",
              "4           M1H  43.773136 -79.239476\n",
              "..          ...        ...        ...\n",
              "98          M9N  43.706876 -79.518188\n",
              "99          M9P  43.696319 -79.532242\n",
              "100         M9R  43.688905 -79.554724\n",
              "101         M9V  43.739416 -79.588437\n",
              "102         M9W  43.706748 -79.594054\n",
              "\n",
              "[103 rows x 3 columns]"
            ]
          },
          "metadata": {
            "tags": []
          },
          "execution_count": 78
        }
      ]
    },
    {
      "cell_type": "markdown",
      "metadata": {
        "id": "zoadfgyeYDsH",
        "colab_type": "text"
      },
      "source": [
        "Next is just to merge the two files"
      ]
    },
    {
      "cell_type": "code",
      "metadata": {
        "id": "IB8apBF-X6qo",
        "colab_type": "code",
        "colab": {}
      },
      "source": [
        "dfres = pd.merge(df,geo,how='left',left_on='PostalCode',right_on='Postal Code')\n",
        "dfres.drop(\"Postal Code\", axis=1, inplace=True)"
      ],
      "execution_count": 0,
      "outputs": []
    },
    {
      "cell_type": "code",
      "metadata": {
        "id": "HowkFE4QYQgn",
        "colab_type": "code",
        "colab": {
          "base_uri": "https://localhost:8080/",
          "height": 206
        },
        "outputId": "8960596b-2201-44a5-dc65-90b4ee6f736a"
      },
      "source": [
        "dfres.head()"
      ],
      "execution_count": 82,
      "outputs": [
        {
          "output_type": "execute_result",
          "data": {
            "text/html": [
              "<div>\n",
              "<style scoped>\n",
              "    .dataframe tbody tr th:only-of-type {\n",
              "        vertical-align: middle;\n",
              "    }\n",
              "\n",
              "    .dataframe tbody tr th {\n",
              "        vertical-align: top;\n",
              "    }\n",
              "\n",
              "    .dataframe thead th {\n",
              "        text-align: right;\n",
              "    }\n",
              "</style>\n",
              "<table border=\"1\" class=\"dataframe\">\n",
              "  <thead>\n",
              "    <tr style=\"text-align: right;\">\n",
              "      <th></th>\n",
              "      <th>PostalCode</th>\n",
              "      <th>Borough</th>\n",
              "      <th>Neighborhood</th>\n",
              "      <th>Latitude</th>\n",
              "      <th>Longitude</th>\n",
              "    </tr>\n",
              "  </thead>\n",
              "  <tbody>\n",
              "    <tr>\n",
              "      <th>0</th>\n",
              "      <td>M3A</td>\n",
              "      <td>North York</td>\n",
              "      <td>Parkwoods</td>\n",
              "      <td>43.753259</td>\n",
              "      <td>-79.329656</td>\n",
              "    </tr>\n",
              "    <tr>\n",
              "      <th>1</th>\n",
              "      <td>M4A</td>\n",
              "      <td>North York</td>\n",
              "      <td>Victoria Village</td>\n",
              "      <td>43.725882</td>\n",
              "      <td>-79.315572</td>\n",
              "    </tr>\n",
              "    <tr>\n",
              "      <th>2</th>\n",
              "      <td>M5A</td>\n",
              "      <td>Downtown Toronto</td>\n",
              "      <td>Regent Park, Harbourfront</td>\n",
              "      <td>43.654260</td>\n",
              "      <td>-79.360636</td>\n",
              "    </tr>\n",
              "    <tr>\n",
              "      <th>3</th>\n",
              "      <td>M6A</td>\n",
              "      <td>North York</td>\n",
              "      <td>Lawrence Manor, Lawrence Heights</td>\n",
              "      <td>43.718518</td>\n",
              "      <td>-79.464763</td>\n",
              "    </tr>\n",
              "    <tr>\n",
              "      <th>4</th>\n",
              "      <td>M7A</td>\n",
              "      <td>Downtown Toronto</td>\n",
              "      <td>Queen's Park, Ontario Provincial Government</td>\n",
              "      <td>43.662301</td>\n",
              "      <td>-79.389494</td>\n",
              "    </tr>\n",
              "  </tbody>\n",
              "</table>\n",
              "</div>"
            ],
            "text/plain": [
              "  PostalCode           Borough  ...   Latitude  Longitude\n",
              "0        M3A        North York  ...  43.753259 -79.329656\n",
              "1        M4A        North York  ...  43.725882 -79.315572\n",
              "2        M5A  Downtown Toronto  ...  43.654260 -79.360636\n",
              "3        M6A        North York  ...  43.718518 -79.464763\n",
              "4        M7A  Downtown Toronto  ...  43.662301 -79.389494\n",
              "\n",
              "[5 rows x 5 columns]"
            ]
          },
          "metadata": {
            "tags": []
          },
          "execution_count": 82
        }
      ]
    },
    {
      "cell_type": "markdown",
      "metadata": {
        "id": "ZKChBJvDZsGv",
        "colab_type": "text"
      },
      "source": [
        "#Exploration thingy"
      ]
    },
    {
      "cell_type": "markdown",
      "metadata": {
        "id": "uPC52qGga_HL",
        "colab_type": "text"
      },
      "source": [
        "Get some toronto coords"
      ]
    },
    {
      "cell_type": "code",
      "metadata": {
        "id": "WE-PL2nJbKCd",
        "colab_type": "code",
        "colab": {
          "base_uri": "https://localhost:8080/",
          "height": 35
        },
        "outputId": "1a28a11a-1971-4ea6-ee3d-8002af8cabca"
      },
      "source": [
        "address = \"Toronto, ON\"\n",
        "\n",
        "geolocator = Nominatim(user_agent=\"toronto_explorer\")\n",
        "location = geolocator.geocode(address)\n",
        "lat = location.latitude\n",
        "lng = location.longitude\n",
        "print('The coordinates of Toronto city are {}, {}.'.format(lat, lng))"
      ],
      "execution_count": 86,
      "outputs": [
        {
          "output_type": "stream",
          "text": [
            "The coordinates of Toronto city are 43.6534817, -79.3839347.\n"
          ],
          "name": "stdout"
        }
      ]
    },
    {
      "cell_type": "markdown",
      "metadata": {
        "id": "UX1GmAWSbrx8",
        "colab_type": "text"
      },
      "source": [
        "New dataset without non torontos"
      ]
    },
    {
      "cell_type": "code",
      "metadata": {
        "id": "gVEEIjVQbrIl",
        "colab_type": "code",
        "colab": {
          "base_uri": "https://localhost:8080/",
          "height": 206
        },
        "outputId": "8e3cd812-18fe-4a15-df4e-2d32a70f3418"
      },
      "source": [
        "dft = dfres[dfres['Borough'].str.contains('Toronto')].reset_index(drop=True)\n",
        "dft.head()"
      ],
      "execution_count": 96,
      "outputs": [
        {
          "output_type": "execute_result",
          "data": {
            "text/html": [
              "<div>\n",
              "<style scoped>\n",
              "    .dataframe tbody tr th:only-of-type {\n",
              "        vertical-align: middle;\n",
              "    }\n",
              "\n",
              "    .dataframe tbody tr th {\n",
              "        vertical-align: top;\n",
              "    }\n",
              "\n",
              "    .dataframe thead th {\n",
              "        text-align: right;\n",
              "    }\n",
              "</style>\n",
              "<table border=\"1\" class=\"dataframe\">\n",
              "  <thead>\n",
              "    <tr style=\"text-align: right;\">\n",
              "      <th></th>\n",
              "      <th>PostalCode</th>\n",
              "      <th>Borough</th>\n",
              "      <th>Neighborhood</th>\n",
              "      <th>Latitude</th>\n",
              "      <th>Longitude</th>\n",
              "    </tr>\n",
              "  </thead>\n",
              "  <tbody>\n",
              "    <tr>\n",
              "      <th>0</th>\n",
              "      <td>M5A</td>\n",
              "      <td>Downtown Toronto</td>\n",
              "      <td>Regent Park, Harbourfront</td>\n",
              "      <td>43.654260</td>\n",
              "      <td>-79.360636</td>\n",
              "    </tr>\n",
              "    <tr>\n",
              "      <th>1</th>\n",
              "      <td>M7A</td>\n",
              "      <td>Downtown Toronto</td>\n",
              "      <td>Queen's Park, Ontario Provincial Government</td>\n",
              "      <td>43.662301</td>\n",
              "      <td>-79.389494</td>\n",
              "    </tr>\n",
              "    <tr>\n",
              "      <th>2</th>\n",
              "      <td>M5B</td>\n",
              "      <td>Downtown Toronto</td>\n",
              "      <td>Garden District, Ryerson</td>\n",
              "      <td>43.657162</td>\n",
              "      <td>-79.378937</td>\n",
              "    </tr>\n",
              "    <tr>\n",
              "      <th>3</th>\n",
              "      <td>M5C</td>\n",
              "      <td>Downtown Toronto</td>\n",
              "      <td>St. James Town</td>\n",
              "      <td>43.651494</td>\n",
              "      <td>-79.375418</td>\n",
              "    </tr>\n",
              "    <tr>\n",
              "      <th>4</th>\n",
              "      <td>M4E</td>\n",
              "      <td>East Toronto</td>\n",
              "      <td>The Beaches</td>\n",
              "      <td>43.676357</td>\n",
              "      <td>-79.293031</td>\n",
              "    </tr>\n",
              "  </tbody>\n",
              "</table>\n",
              "</div>"
            ],
            "text/plain": [
              "  PostalCode           Borough  ...   Latitude  Longitude\n",
              "0        M5A  Downtown Toronto  ...  43.654260 -79.360636\n",
              "1        M7A  Downtown Toronto  ...  43.662301 -79.389494\n",
              "2        M5B  Downtown Toronto  ...  43.657162 -79.378937\n",
              "3        M5C  Downtown Toronto  ...  43.651494 -79.375418\n",
              "4        M4E      East Toronto  ...  43.676357 -79.293031\n",
              "\n",
              "[5 rows x 5 columns]"
            ]
          },
          "metadata": {
            "tags": []
          },
          "execution_count": 96
        }
      ]
    },
    {
      "cell_type": "code",
      "metadata": {
        "id": "cfW_RwKxZyqv",
        "colab_type": "code",
        "colab": {
          "base_uri": "https://localhost:8080/",
          "height": 1000
        },
        "outputId": "d9feac10-1438-4508-d0a2-0a4176512ebd"
      },
      "source": [
        "tmap = folium.Map(location = [lat,lng],zoom_start = 12)\n",
        "for lat, lng, borough, neighborhood in zip(dft['Latitude'], dft['Longitude'], dft['Borough'], dft['Neighborhood']):\n",
        "  label = '{}, {}'.format(neighborhood, borough)\n",
        "  label = folium.Popup(label, parse_html=True)\n",
        "  folium.CircleMarker([lat,lng],radius = 5, popup = label, color='blue', fill = True, fill_color = 'cyan', fill_opacity = 0.5, parse_html=False).add_to(tmap)\n",
        "tmap"
      ],
      "execution_count": 98,
      "outputs": [
        {
          "output_type": "execute_result",
          "data": {
            "text/html": [
              "<div style=\"width:100%;\"><div style=\"position:relative;width:100%;height:0;padding-bottom:60%;\"><span style=\"color:#565656\">Make this Notebook Trusted to load map: File -> Trust Notebook</span><iframe src=\"about:blank\" style=\"position:absolute;width:100%;height:100%;left:0;top:0;border:none !important;\" data-html=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 onload=\"this.contentDocument.open();this.contentDocument.write(atob(this.getAttribute('data-html')));this.contentDocument.close();\" allowfullscreen webkitallowfullscreen mozallowfullscreen></iframe></div></div>"
            ],
            "text/plain": [
              "<folium.folium.Map at 0x7f2a6bbbb400>"
            ]
          },
          "metadata": {
            "tags": []
          },
          "execution_count": 98
        }
      ]
    },
    {
      "cell_type": "code",
      "metadata": {
        "id": "fJpnrCgOarTt",
        "colab_type": "code",
        "colab": {}
      },
      "source": [
        ""
      ],
      "execution_count": 0,
      "outputs": []
    }
  ]
}